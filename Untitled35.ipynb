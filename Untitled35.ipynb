{
  "nbformat": 4,
  "nbformat_minor": 0,
  "metadata": {
    "colab": {
      "provenance": []
    },
    "kernelspec": {
      "name": "python3",
      "display_name": "Python 3"
    },
    "language_info": {
      "name": "python"
    }
  },
  "cells": [
    {
      "cell_type": "code",
      "execution_count": null,
      "metadata": {
        "colab": {
          "base_uri": "https://localhost:8080/"
        },
        "id": "peUYu9q8e0HN",
        "outputId": "e760c4f7-517b-4683-a746-07e22263df41"
      },
      "outputs": [
        {
          "output_type": "execute_result",
          "data": {
            "text/plain": [
              "2006"
            ]
          },
          "metadata": {},
          "execution_count": 1
        }
      ],
      "source": [
        "import requests\n",
        "import pandas as pd\n",
        "\n",
        "# Perform a GET request to the SpaceX API\n",
        "response = requests.get(\"https://api.spacexdata.com/v4/launches\")\n",
        "\n",
        "# Convert the response to a DataFrame\n",
        "data = response.json()\n",
        "df = pd.json_normalize(data)\n",
        "\n",
        "# Extract the year from the first row in the 'static_fire_date_utc' column\n",
        "first_row_date = df.loc[0, 'static_fire_date_utc']\n",
        "year = pd.to_datetime(first_row_date).year\n",
        "\n",
        "year"
      ]
    },
    {
      "cell_type": "code",
      "source": [
        "import requests\n",
        "import pandas as pd\n",
        "\n",
        "# Perform a GET request to the SpaceX API\n",
        "response = requests.get(\"https://api.spacexdata.com/v4/launches\")\n",
        "\n",
        "# Convert the response to a DataFrame\n",
        "data = response.json()\n",
        "df = pd.json_normalize(data)\n",
        "\n",
        "# Extract the year from the first row in the 'static_fire_date_utc' column\n",
        "first_row_date = df.loc[0, 'static_fire_date_utc']\n",
        "year = pd.to_datetime(first_row_date).year\n",
        "\n",
        "print(year)\n"
      ],
      "metadata": {
        "colab": {
          "base_uri": "https://localhost:8080/"
        },
        "id": "mpANUtdke2oA",
        "outputId": "0861e968-8da0-4fac-9dd1-1fef1b094875"
      },
      "execution_count": null,
      "outputs": [
        {
          "output_type": "stream",
          "name": "stdout",
          "text": [
            "2006\n"
          ]
        }
      ]
    },
    {
      "cell_type": "code",
      "source": [
        "import requests\n",
        "import pandas as pd\n",
        "\n",
        "# Perform a GET request to the SpaceX API\n",
        "response = requests.get(\"https://api.spacexdata.com/v4/launches\")\n",
        "\n",
        "# Convert the response to a DataFrame\n",
        "data = response.json()\n",
        "df = pd.json_normalize(data)\n",
        "\n",
        "# Inspect the DataFrame to find the column containing rocket IDs\n",
        "print(df.columns)\n",
        "\n",
        "# Get rocket data to find the name associated with each rocket ID\n",
        "response_rockets = requests.get(\"https://api.spacexdata.com/v4/rockets\")\n",
        "rockets_data = response_rockets.json()\n",
        "rockets_df = pd.json_normalize(rockets_data)\n",
        "\n",
        "# Merge the launch data with the rocket data to get rocket names in the launch DataFrame\n",
        "df = df.merge(rockets_df[['id', 'name']], left_on='rocket', right_on='id', suffixes=('', '_rocket'))\n",
        "\n",
        "# Filter out the Falcon 1 launches\n",
        "falcon_9_df = df[df['name'] == 'Falcon 9']\n",
        "\n",
        "# Count the number of Falcon 9 launches\n",
        "falcon_9_count = falcon_9_df.shape[0]\n",
        "\n",
        "falcon_9_count\n"
      ],
      "metadata": {
        "colab": {
          "base_uri": "https://localhost:8080/"
        },
        "id": "z4CkbMzWe9CH",
        "outputId": "2f12304a-c8b0-4d14-b2cb-bead77e356a3"
      },
      "execution_count": null,
      "outputs": [
        {
          "output_type": "stream",
          "name": "stdout",
          "text": [
            "Index(['static_fire_date_utc', 'static_fire_date_unix', 'net', 'window',\n",
            "       'rocket', 'success', 'failures', 'details', 'crew', 'ships', 'capsules',\n",
            "       'payloads', 'launchpad', 'flight_number', 'name', 'date_utc',\n",
            "       'date_unix', 'date_local', 'date_precision', 'upcoming', 'cores',\n",
            "       'auto_update', 'tbd', 'launch_library_id', 'id', 'fairings.reused',\n",
            "       'fairings.recovery_attempt', 'fairings.recovered', 'fairings.ships',\n",
            "       'links.patch.small', 'links.patch.large', 'links.reddit.campaign',\n",
            "       'links.reddit.launch', 'links.reddit.media', 'links.reddit.recovery',\n",
            "       'links.flickr.small', 'links.flickr.original', 'links.presskit',\n",
            "       'links.webcast', 'links.youtube_id', 'links.article', 'links.wikipedia',\n",
            "       'fairings'],\n",
            "      dtype='object')\n"
          ]
        },
        {
          "output_type": "execute_result",
          "data": {
            "text/plain": [
              "0"
            ]
          },
          "metadata": {},
          "execution_count": 3
        }
      ]
    },
    {
      "cell_type": "code",
      "source": [
        "import requests\n",
        "import pandas as pd\n",
        "\n",
        "# Perform a GET request to the SpaceX API for launches\n",
        "response = requests.get(\"https://api.spacexdata.com/v4/launches\")\n",
        "data = response.json()\n",
        "df = pd.json_normalize(data)\n",
        "\n",
        "# Perform a GET request to the SpaceX API for rockets\n",
        "response_rockets = requests.get(\"https://api.spacexdata.com/v4/rockets\")\n",
        "rockets_data = response_rockets.json()\n",
        "rockets_df = pd.json_normalize(rockets_data)\n",
        "\n",
        "# Merge the launch data with the rocket data to get rocket names in the launch DataFrame\n",
        "df = df.merge(rockets_df[['id', 'name']], left_on='rocket', right_on='id', suffixes=('', '_rocket'))\n",
        "\n",
        "# Filter out the Falcon 1 launches\n",
        "falcon_9_df = df[df['name'] == 'Falcon 9']\n",
        "\n",
        "# Count the number of Falcon 9 launches\n",
        "falcon_9_count = falcon_9_df.shape[0]\n",
        "\n",
        "print(falcon_9_count)"
      ],
      "metadata": {
        "colab": {
          "base_uri": "https://localhost:8080/"
        },
        "id": "-potl4XDg1Lw",
        "outputId": "a9bd8af7-4998-407e-f15f-3d3cf2facb8d"
      },
      "execution_count": null,
      "outputs": [
        {
          "output_type": "stream",
          "name": "stdout",
          "text": [
            "0\n"
          ]
        }
      ]
    },
    {
      "cell_type": "code",
      "source": [
        "import requests\n",
        "import pandas as pd\n",
        "\n",
        "# Perform a GET request to the SpaceX API for launches\n",
        "response = requests.get(\"https://api.spacexdata.com/v4/launches\")\n",
        "data = response.json()\n",
        "df = pd.json_normalize(data)\n",
        "\n",
        "# Check for the existence of the 'landingPad' column\n",
        "if 'cores.0.landingPad' in df.columns:\n",
        "    # Count the number of missing values in the 'landingPad' column\n",
        "    missing_values_count = df['cores.0.landingPad'].isna().sum()\n",
        "else:\n",
        "    missing_values_count = None\n",
        "\n",
        "missing_values_count"
      ],
      "metadata": {
        "id": "elR6XRsMhCD7"
      },
      "execution_count": null,
      "outputs": []
    },
    {
      "cell_type": "code",
      "source": [
        "import requests\n",
        "import pandas as pd\n",
        "\n",
        "# Perform a GET request to the SpaceX API for launches\n",
        "response = requests.get(\"https://api.spacexdata.com/v4/launches\")\n",
        "data = response.json()\n",
        "df = pd.json_normalize(data)\n",
        "\n",
        "# Check for the existence of the 'landingPad' column\n",
        "if 'cores.0.landingPad' in df.columns:\n",
        "    # Count the number of missing values in the 'landingPad' column\n",
        "    missing_values_count = df['cores.0.landingPad'].isna().sum()\n",
        "else:\n",
        "    missing_values_count = None\n",
        "\n",
        "print(missing_values_count)\n"
      ],
      "metadata": {
        "colab": {
          "base_uri": "https://localhost:8080/"
        },
        "id": "e2ooTWSPhoeH",
        "outputId": "6189da14-e67a-4de5-d1ff-f36943a9525a"
      },
      "execution_count": null,
      "outputs": [
        {
          "output_type": "stream",
          "name": "stdout",
          "text": [
            "None\n"
          ]
        }
      ]
    },
    {
      "cell_type": "code",
      "source": [
        "import requests\n",
        "from bs4 import BeautifulSoup\n",
        "\n",
        "# Make a request to the Falcon 9 Launch Wikipedia page\n",
        "url = \"https://en.wikipedia.org/wiki/List_of_Falcon_9_and_Falcon_Heavy_launches\"\n",
        "response = requests.get(url)\n",
        "\n",
        "# Create a BeautifulSoup object\n",
        "soup = BeautifulSoup(response.content, 'html.parser')\n",
        "\n",
        "# Output the title of the page\n",
        "page_title = soup.title\n",
        "\n",
        "page_title"
      ],
      "metadata": {
        "colab": {
          "base_uri": "https://localhost:8080/"
        },
        "id": "uL334htPhuYA",
        "outputId": "12087e4b-d5d4-4a35-d461-e86b8312502b"
      },
      "execution_count": null,
      "outputs": [
        {
          "output_type": "execute_result",
          "data": {
            "text/plain": [
              "<title>List of Falcon 9 and Falcon Heavy launches - Wikipedia</title>"
            ]
          },
          "metadata": {},
          "execution_count": 9
        }
      ]
    }
  ]
}